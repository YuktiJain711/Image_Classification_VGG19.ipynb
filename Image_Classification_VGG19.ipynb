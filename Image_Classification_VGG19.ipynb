{
  "nbformat": 4,
  "nbformat_minor": 0,
  "metadata": {
    "colab": {
      "provenance": []
    },
    "kernelspec": {
      "name": "python3",
      "display_name": "Python 3"
    },
    "language_info": {
      "name": "python"
    },
    "accelerator": "GPU",
    "gpuClass": "standard"
  },
  "cells": [
    {
      "cell_type": "code",
      "execution_count": null,
      "metadata": {
        "colab": {
          "base_uri": "https://localhost:8080/"
        },
        "id": "CELtjMYFpE3y",
        "outputId": "7dbbd8a1-67f6-4047-e6b6-10df7137d140"
      },
      "outputs": [
        {
          "output_type": "stream",
          "name": "stdout",
          "text": [
            "Mounted at /content/gdrive\n"
          ]
        }
      ],
      "source": [
        "from google.colab import drive\n",
        "drive.mount('/content/gdrive')\n"
      ]
    },
    {
      "cell_type": "code",
      "source": [
        "!unzip -q gdrive/My\\ Drive/train.zip\n",
        "!unzip -q gdrive/My\\ Drive/val.zip\n"
      ],
      "metadata": {
        "id": "9OHfdhhHpOGo",
        "colab": {
          "base_uri": "https://localhost:8080/"
        },
        "outputId": "a4730d29-0bec-4b60-ff35-a49c65abef94"
      },
      "execution_count": null,
      "outputs": [
        {
          "output_type": "stream",
          "name": "stdout",
          "text": [
            "unzip:  cannot find or open gdrive/My Drive/test.zip, gdrive/My Drive/test.zip.zip or gdrive/My Drive/test.zip.ZIP.\n"
          ]
        }
      ]
    },
    {
      "cell_type": "code",
      "source": [
        "# Data manipulation\n",
        "import numpy as np\n",
        "# from sklearn.model_selection import train_test_split  # not needed here because the data is already splitted.\n",
        "from sklearn.metrics import classification_report  # Recall, F1-Score, precission, support, accuracy and more\n",
        "from sklearn.utils import shuffle  # for shuffling train and test data\n",
        "from PIL import Image, ImageEnhance\n",
        "import matplotlib.pyplot as plt\n",
        "import PIL\n",
        "\n",
        "\n",
        "# ML libraries\n",
        "import tensorflow as tf\n",
        "\n",
        "from tensorflow import keras  # keras.utils.model_plot to see the model\n",
        "from tensorflow.keras import layers\n",
        "from tensorflow.keras.models import Sequential  \n",
        "from tensorflow.keras.applications import VGG16  # transfer learning, base model. \n",
        "from tensorflow.keras.optimizers import Adam  # Adapt momentum. It uses the benefits of RMSprop and Gradient Descent with momentum. Hyper params: learning rate, beta for momentum\n",
        "from tensorflow.keras.layers import Input, Flatten, Dense, Dropout\n",
        "from tensorflow.keras.preprocessing.image import load_img  # to load images.\n",
        "\n",
        "# Visualization\n",
        "import os\n",
        "import matplotlib.pyplot as plt\n",
        "from tqdm import tqdm"
      ],
      "metadata": {
        "id": "w_Nq__Z7u0-s"
      },
      "execution_count": null,
      "outputs": []
    },
    {
      "cell_type": "code",
      "source": [
        "preprocess_input = tf.keras.applications.vgg16.preprocess_input"
      ],
      "metadata": {
        "id": "OORgc2SOxrcU"
      },
      "execution_count": null,
      "outputs": []
    },
    {
      "cell_type": "code",
      "source": [
        "train_gen = keras.preprocessing.image.ImageDataGenerator(preprocessing_function=preprocess_input)\n",
        "valid_gen = keras.preprocessing.image.ImageDataGenerator(preprocessing_function=preprocess_input)\n",
        "test_gen = keras.preprocessing.image.ImageDataGenerator(preprocessing_function=preprocess_input)\n",
        "\n",
        "batch_size = [15,25,35,45,55]\n",
        "\n",
        "train_batches = tf.keras.utils.image_dataset_from_directory('train',image_size=(224,224),batch_size=32)\n",
        "val_batches = tf.keras.utils.image_dataset_from_directory('val',image_size=(224,224),batch_size=32)\n"
      ],
      "metadata": {
        "colab": {
          "base_uri": "https://localhost:8080/"
        },
        "id": "v7gzqtzSxzwT",
        "outputId": "39944d98-c046-41c3-e2a1-67f8833bdba6"
      },
      "execution_count": null,
      "outputs": [
        {
          "output_type": "stream",
          "name": "stdout",
          "text": [
            "Found 48500 files belonging to 2 classes.\n",
            "Found 6929 files belonging to 2 classes.\n"
          ]
        }
      ]
    },
    {
      "cell_type": "code",
      "source": [
        "base =tf.keras.applications.VGG16(include_top=False, weights='imagenet', input_shape=(224,224,3))\n",
        "base.trainable= False\n",
        "model = tf.keras.Sequential([\n",
        "    base,\n",
        "    tf.keras.layers.Flatten(),\n",
        "    tf.keras.layers.Dropout(0.1),\n",
        "    tf.keras.layers.Dense(512, activation='relu'),\n",
        "    tf.keras.layers.Dropout(0.1),\n",
        "    \n",
        "    tf.keras.layers.Dense((1), activation='sigmoid')\n",
        "    # tf.keras.layers.Flatten(),\n",
        "    # tf.keras.layers.Dense(1,activation='sigmoid')\n",
        "])"
      ],
      "metadata": {
        "id": "Eh-yUN9g65_W",
        "colab": {
          "base_uri": "https://localhost:8080/"
        },
        "outputId": "e13aae5a-8d79-4969-ba73-f8def9c0423b"
      },
      "execution_count": null,
      "outputs": [
        {
          "output_type": "stream",
          "name": "stdout",
          "text": [
            "Downloading data from https://storage.googleapis.com/tensorflow/keras-applications/vgg16/vgg16_weights_tf_dim_ordering_tf_kernels_notop.h5\n",
            "58889256/58889256 [==============================] - 4s 0us/step\n"
          ]
        }
      ]
    },
    {
      "cell_type": "code",
      "source": [
        "model.summary()"
      ],
      "metadata": {
        "colab": {
          "base_uri": "https://localhost:8080/"
        },
        "id": "IFmn3UHE7jTO",
        "outputId": "a30a0388-2b68-4dae-bfdd-43717c93676d"
      },
      "execution_count": null,
      "outputs": [
        {
          "output_type": "stream",
          "name": "stdout",
          "text": [
            "Model: \"sequential\"\n",
            "_________________________________________________________________\n",
            " Layer (type)                Output Shape              Param #   \n",
            "=================================================================\n",
            " vgg16 (Functional)          (None, 7, 7, 512)         14714688  \n",
            "                                                                 \n",
            " flatten (Flatten)           (None, 25088)             0         \n",
            "                                                                 \n",
            " dropout (Dropout)           (None, 25088)             0         \n",
            "                                                                 \n",
            " dense (Dense)               (None, 512)               12845568  \n",
            "                                                                 \n",
            " dropout_1 (Dropout)         (None, 512)               0         \n",
            "                                                                 \n",
            " dense_1 (Dense)             (None, 1)                 513       \n",
            "                                                                 \n",
            "=================================================================\n",
            "Total params: 27,560,769\n",
            "Trainable params: 12,846,081\n",
            "Non-trainable params: 14,714,688\n",
            "_________________________________________________________________\n"
          ]
        }
      ]
    },
    {
      "cell_type": "code",
      "source": [
        "loss = keras.losses.BinaryCrossentropy()\n",
        "optim = keras.optimizers.Adam()\n",
        "metrics = ['accuracy']\n",
        "model.compile(optimizer = optim, loss=loss, metrics = metrics)"
      ],
      "metadata": {
        "id": "0QII3nSDmTT0"
      },
      "execution_count": null,
      "outputs": []
    },
    {
      "cell_type": "code",
      "source": [
        "epochs=5\n",
        "hist = model.fit(train_batches, validation_data=val_batches,\n",
        "          # callbacks=[early_stopping],\n",
        "          epochs=epochs)"
      ],
      "metadata": {
        "id": "otGt3YxT0eWB",
        "colab": {
          "base_uri": "https://localhost:8080/"
        },
        "outputId": "702445d3-a075-4acd-c1e0-1eb2f3cfbaf3"
      },
      "execution_count": null,
      "outputs": [
        {
          "output_type": "stream",
          "name": "stdout",
          "text": [
            "Epoch 1/5\n",
            "1516/1516 [==============================] - 272s 171ms/step - loss: 0.5474 - accuracy: 0.8027 - val_loss: 0.5059 - val_accuracy: 0.7926\n",
            "Epoch 2/5\n",
            "1516/1516 [==============================] - 258s 170ms/step - loss: 0.3376 - accuracy: 0.8517 - val_loss: 0.5153 - val_accuracy: 0.7855\n",
            "Epoch 3/5\n",
            "1516/1516 [==============================] - 246s 162ms/step - loss: 0.2893 - accuracy: 0.8723 - val_loss: 0.5284 - val_accuracy: 0.7971\n",
            "Epoch 4/5\n",
            "1516/1516 [==============================] - 257s 169ms/step - loss: 0.2536 - accuracy: 0.8871 - val_loss: 0.5918 - val_accuracy: 0.8020\n",
            "Epoch 5/5\n",
            "1516/1516 [==============================] - 257s 169ms/step - loss: 0.2279 - accuracy: 0.8991 - val_loss: 0.6023 - val_accuracy: 0.7939\n"
          ]
        }
      ]
    },
    {
      "cell_type": "code",
      "source": [
        "fig = plt.figure()\n",
        "plt.plot(hist.history['loss'], color='teal', label='loss')\n",
        "plt.plot(hist.history['val_loss'], color='orange', label='val_loss')\n",
        "fig.suptitle('Loss', fontsize=20)\n",
        "plt.legend(loc=\"upper left\")\n",
        "plt.show()"
      ],
      "metadata": {
        "id": "fskv8Lu909b3"
      },
      "execution_count": null,
      "outputs": []
    },
    {
      "cell_type": "code",
      "source": [
        "fig = plt.figure()\n",
        "plt.plot(hist.history['accuracy'], color='teal', label='accuracy')\n",
        "plt.plot(hist.history['val_accuracy'], color='orange', label='val_accuracy')\n",
        "fig.suptitle('Accuracy', fontsize=20)\n",
        "plt.legend(loc=\"upper left\")\n",
        "plt.show()"
      ],
      "metadata": {
        "id": "qOnz38jzN5Xk"
      },
      "execution_count": null,
      "outputs": []
    },
    {
      "cell_type": "code",
      "source": [
        "!unzip -q gdrive/My\\ Drive/test.zip"
      ],
      "metadata": {
        "id": "Z6Ywt_kp9ejW"
      },
      "execution_count": null,
      "outputs": []
    },
    {
      "cell_type": "code",
      "source": [
        "\n",
        "from pathlib import Path\n",
        "tp = Path('/content/test/')\n",
        "test_images = list(tp.glob('*'))\n",
        "test_images = sorted(test_images,key=lambda x:int(x.stem))\n",
        "test_images = list(map(str,test_images))\n",
        "list_ds = tf.data.Dataset.from_tensor_slices(test_images)"
      ],
      "metadata": {
        "id": "YCl9Ia9dOBmZ"
      },
      "execution_count": null,
      "outputs": []
    },
    {
      "cell_type": "code",
      "source": [
        "def decode_img(file_path):\n",
        "  img = tf.io.read_file(file_path)\n",
        "  # Convert the compressed string to a 3D uint8 tensor\n",
        "  img = tf.io.decode_jpeg(img, channels=3)\n",
        "  # Resize the image to the desired size\n",
        "  return tf.image.resize(img, [224,224])"
      ],
      "metadata": {
        "id": "xdDgRp5ROBjn"
      },
      "execution_count": null,
      "outputs": []
    },
    {
      "cell_type": "code",
      "source": [
        "test_ds = list_ds.map(decode_img)\n",
        "test_ds = test_ds.batch(64)\n",
        "preds = []\n",
        "for img in test_ds.as_numpy_iterator():\n",
        "  preds.extend(model.predict(img))"
      ],
      "metadata": {
        "id": "sUqco96-OBf0",
        "colab": {
          "base_uri": "https://localhost:8080/"
        },
        "outputId": "0eb9685e-03dd-44ef-976a-408028679b68"
      },
      "execution_count": null,
      "outputs": [
        {
          "output_type": "stream",
          "name": "stdout",
          "text": [
            "2/2 [==============================] - 0s 163ms/step\n",
            "2/2 [==============================] - 0s 115ms/step\n",
            "2/2 [==============================] - 0s 120ms/step\n",
            "2/2 [==============================] - 0s 118ms/step\n",
            "2/2 [==============================] - 0s 149ms/step\n",
            "2/2 [==============================] - 0s 121ms/step\n",
            "2/2 [==============================] - 0s 121ms/step\n",
            "2/2 [==============================] - 0s 122ms/step\n",
            "2/2 [==============================] - 0s 118ms/step\n",
            "2/2 [==============================] - 0s 119ms/step\n",
            "2/2 [==============================] - 0s 115ms/step\n",
            "2/2 [==============================] - 0s 118ms/step\n",
            "2/2 [==============================] - 0s 117ms/step\n",
            "2/2 [==============================] - 0s 116ms/step\n",
            "2/2 [==============================] - 0s 116ms/step\n",
            "2/2 [==============================] - 0s 124ms/step\n",
            "2/2 [==============================] - 0s 118ms/step\n",
            "2/2 [==============================] - 0s 118ms/step\n",
            "2/2 [==============================] - 0s 123ms/step\n",
            "2/2 [==============================] - 0s 122ms/step\n",
            "2/2 [==============================] - 0s 119ms/step\n",
            "2/2 [==============================] - 0s 115ms/step\n",
            "2/2 [==============================] - 0s 118ms/step\n",
            "2/2 [==============================] - 0s 116ms/step\n",
            "2/2 [==============================] - 0s 116ms/step\n",
            "2/2 [==============================] - 0s 117ms/step\n",
            "2/2 [==============================] - 0s 124ms/step\n",
            "2/2 [==============================] - 0s 116ms/step\n",
            "2/2 [==============================] - 0s 102ms/step\n",
            "2/2 [==============================] - 0s 115ms/step\n",
            "2/2 [==============================] - 0s 117ms/step\n",
            "2/2 [==============================] - 0s 117ms/step\n",
            "2/2 [==============================] - 0s 119ms/step\n",
            "2/2 [==============================] - 0s 119ms/step\n",
            "2/2 [==============================] - 0s 122ms/step\n",
            "2/2 [==============================] - 0s 120ms/step\n",
            "2/2 [==============================] - 0s 122ms/step\n",
            "2/2 [==============================] - 0s 122ms/step\n",
            "2/2 [==============================] - 0s 122ms/step\n",
            "2/2 [==============================] - 0s 117ms/step\n",
            "2/2 [==============================] - 0s 123ms/step\n",
            "2/2 [==============================] - 0s 126ms/step\n",
            "2/2 [==============================] - 0s 124ms/step\n",
            "2/2 [==============================] - 0s 118ms/step\n",
            "2/2 [==============================] - 0s 119ms/step\n",
            "2/2 [==============================] - 0s 123ms/step\n",
            "2/2 [==============================] - 0s 120ms/step\n",
            "2/2 [==============================] - 0s 118ms/step\n",
            "2/2 [==============================] - 0s 117ms/step\n",
            "2/2 [==============================] - 0s 116ms/step\n",
            "2/2 [==============================] - 0s 118ms/step\n",
            "2/2 [==============================] - 0s 118ms/step\n",
            "2/2 [==============================] - 0s 119ms/step\n",
            "2/2 [==============================] - 0s 124ms/step\n",
            "2/2 [==============================] - 0s 122ms/step\n",
            "2/2 [==============================] - 0s 122ms/step\n",
            "2/2 [==============================] - 0s 126ms/step\n",
            "2/2 [==============================] - 0s 122ms/step\n",
            "2/2 [==============================] - 0s 117ms/step\n",
            "2/2 [==============================] - 0s 124ms/step\n",
            "2/2 [==============================] - 0s 120ms/step\n",
            "2/2 [==============================] - 0s 119ms/step\n",
            "2/2 [==============================] - 0s 121ms/step\n",
            "2/2 [==============================] - 0s 121ms/step\n",
            "2/2 [==============================] - 0s 121ms/step\n",
            "2/2 [==============================] - 0s 121ms/step\n",
            "2/2 [==============================] - 0s 119ms/step\n",
            "2/2 [==============================] - 0s 118ms/step\n",
            "2/2 [==============================] - 0s 120ms/step\n",
            "2/2 [==============================] - 0s 130ms/step\n",
            "2/2 [==============================] - 0s 127ms/step\n",
            "2/2 [==============================] - 0s 127ms/step\n",
            "2/2 [==============================] - 0s 125ms/step\n",
            "2/2 [==============================] - 0s 120ms/step\n",
            "2/2 [==============================] - 0s 122ms/step\n",
            "2/2 [==============================] - 0s 120ms/step\n",
            "2/2 [==============================] - 0s 126ms/step\n",
            "2/2 [==============================] - 0s 121ms/step\n",
            "2/2 [==============================] - 0s 122ms/step\n",
            "2/2 [==============================] - 0s 124ms/step\n",
            "2/2 [==============================] - 0s 121ms/step\n",
            "2/2 [==============================] - 0s 124ms/step\n",
            "2/2 [==============================] - 0s 120ms/step\n",
            "2/2 [==============================] - 0s 121ms/step\n",
            "2/2 [==============================] - 0s 121ms/step\n",
            "2/2 [==============================] - 0s 124ms/step\n",
            "2/2 [==============================] - 0s 123ms/step\n",
            "2/2 [==============================] - 0s 123ms/step\n",
            "2/2 [==============================] - 0s 124ms/step\n",
            "2/2 [==============================] - 0s 127ms/step\n",
            "2/2 [==============================] - 0s 120ms/step\n",
            "2/2 [==============================] - 0s 123ms/step\n",
            "2/2 [==============================] - 0s 124ms/step\n",
            "2/2 [==============================] - 0s 122ms/step\n",
            "2/2 [==============================] - 0s 122ms/step\n",
            "2/2 [==============================] - 0s 121ms/step\n",
            "2/2 [==============================] - 0s 127ms/step\n",
            "2/2 [==============================] - 0s 126ms/step\n",
            "2/2 [==============================] - 0s 122ms/step\n",
            "2/2 [==============================] - 0s 125ms/step\n",
            "2/2 [==============================] - 0s 124ms/step\n",
            "2/2 [==============================] - 0s 125ms/step\n",
            "2/2 [==============================] - 0s 128ms/step\n",
            "2/2 [==============================] - 0s 129ms/step\n",
            "2/2 [==============================] - 0s 127ms/step\n",
            "2/2 [==============================] - 0s 129ms/step\n",
            "2/2 [==============================] - 0s 129ms/step\n",
            "2/2 [==============================] - 0s 126ms/step\n",
            "2/2 [==============================] - 0s 125ms/step\n",
            "2/2 [==============================] - 0s 126ms/step\n",
            "2/2 [==============================] - 0s 128ms/step\n",
            "2/2 [==============================] - 0s 127ms/step\n",
            "2/2 [==============================] - 0s 123ms/step\n",
            "2/2 [==============================] - 0s 124ms/step\n",
            "2/2 [==============================] - 0s 124ms/step\n",
            "2/2 [==============================] - 0s 125ms/step\n",
            "2/2 [==============================] - 0s 125ms/step\n",
            "2/2 [==============================] - 0s 126ms/step\n",
            "2/2 [==============================] - 0s 128ms/step\n",
            "2/2 [==============================] - 0s 126ms/step\n",
            "2/2 [==============================] - 0s 125ms/step\n",
            "2/2 [==============================] - 0s 128ms/step\n",
            "2/2 [==============================] - 0s 127ms/step\n",
            "2/2 [==============================] - 0s 127ms/step\n",
            "2/2 [==============================] - 0s 128ms/step\n"
          ]
        }
      ]
    },
    {
      "cell_type": "code",
      "source": [
        "out = np.array(preds)\n",
        "np.min(out),np.max(out)\n",
        "out\n",
        "final_preds = np.round(out)\n",
        "final_preds\n",
        "np.unique(final_preds)\n",
        "final = list(final_preds)\n",
        "final.count(0), final.count(1)"
      ],
      "metadata": {
        "id": "2ufSyepWOBdG",
        "colab": {
          "base_uri": "https://localhost:8080/"
        },
        "outputId": "9f53139b-3ac4-4e30-f7f4-cc56d69ff395"
      },
      "execution_count": null,
      "outputs": [
        {
          "output_type": "execute_result",
          "data": {
            "text/plain": [
              "(2848, 5152)"
            ]
          },
          "metadata": {},
          "execution_count": 36
        }
      ]
    },
    {
      "cell_type": "code",
      "source": [
        "import pandas as pd\n",
        "import csv\n",
        "print(np.arange(6))\n",
        "Image_name =np.arange(8000)\n",
        "Predicted_label= final\n",
        "df=pd.DataFrame(list(zip(Image_name,Predicted_label)), columns=['Image Name','Predicted Label'])\n",
        "df.to_csv('/content/Sample_Format.csv', index=False)\n",
        "final_submission=pd.read_csv('/content/Sample_Format.csv')\n",
        "final_submission.head(50)"
      ],
      "metadata": {
        "id": "imnYnKOWOY74",
        "colab": {
          "base_uri": "https://localhost:8080/",
          "height": 1000
        },
        "outputId": "850d8fbe-8f60-4e1c-c888-beae69075902"
      },
      "execution_count": null,
      "outputs": [
        {
          "output_type": "stream",
          "name": "stdout",
          "text": [
            "[0 1 2 3 4 5]\n"
          ]
        },
        {
          "output_type": "execute_result",
          "data": {
            "text/plain": [
              "    Image Name Predicted Label\n",
              "0            0            [1.]\n",
              "1            1            [0.]\n",
              "2            2            [1.]\n",
              "3            3            [1.]\n",
              "4            4            [1.]\n",
              "5            5            [1.]\n",
              "6            6            [0.]\n",
              "7            7            [1.]\n",
              "8            8            [1.]\n",
              "9            9            [1.]\n",
              "10          10            [1.]\n",
              "11          11            [1.]\n",
              "12          12            [1.]\n",
              "13          13            [1.]\n",
              "14          14            [1.]\n",
              "15          15            [1.]\n",
              "16          16            [1.]\n",
              "17          17            [1.]\n",
              "18          18            [1.]\n",
              "19          19            [0.]\n",
              "20          20            [1.]\n",
              "21          21            [1.]\n",
              "22          22            [1.]\n",
              "23          23            [1.]\n",
              "24          24            [1.]\n",
              "25          25            [1.]\n",
              "26          26            [1.]\n",
              "27          27            [1.]\n",
              "28          28            [1.]\n",
              "29          29            [1.]\n",
              "30          30            [1.]\n",
              "31          31            [1.]\n",
              "32          32            [1.]\n",
              "33          33            [1.]\n",
              "34          34            [1.]\n",
              "35          35            [0.]\n",
              "36          36            [0.]\n",
              "37          37            [1.]\n",
              "38          38            [1.]\n",
              "39          39            [1.]\n",
              "40          40            [0.]\n",
              "41          41            [1.]\n",
              "42          42            [0.]\n",
              "43          43            [0.]\n",
              "44          44            [1.]\n",
              "45          45            [1.]\n",
              "46          46            [1.]\n",
              "47          47            [1.]\n",
              "48          48            [1.]\n",
              "49          49            [1.]"
            ],
            "text/html": [
              "\n",
              "  <div id=\"df-afef1084-99f3-45d1-9a22-2901547ccce5\">\n",
              "    <div class=\"colab-df-container\">\n",
              "      <div>\n",
              "<style scoped>\n",
              "    .dataframe tbody tr th:only-of-type {\n",
              "        vertical-align: middle;\n",
              "    }\n",
              "\n",
              "    .dataframe tbody tr th {\n",
              "        vertical-align: top;\n",
              "    }\n",
              "\n",
              "    .dataframe thead th {\n",
              "        text-align: right;\n",
              "    }\n",
              "</style>\n",
              "<table border=\"1\" class=\"dataframe\">\n",
              "  <thead>\n",
              "    <tr style=\"text-align: right;\">\n",
              "      <th></th>\n",
              "      <th>Image Name</th>\n",
              "      <th>Predicted Label</th>\n",
              "    </tr>\n",
              "  </thead>\n",
              "  <tbody>\n",
              "    <tr>\n",
              "      <th>0</th>\n",
              "      <td>0</td>\n",
              "      <td>[1.]</td>\n",
              "    </tr>\n",
              "    <tr>\n",
              "      <th>1</th>\n",
              "      <td>1</td>\n",
              "      <td>[0.]</td>\n",
              "    </tr>\n",
              "    <tr>\n",
              "      <th>2</th>\n",
              "      <td>2</td>\n",
              "      <td>[1.]</td>\n",
              "    </tr>\n",
              "    <tr>\n",
              "      <th>3</th>\n",
              "      <td>3</td>\n",
              "      <td>[1.]</td>\n",
              "    </tr>\n",
              "    <tr>\n",
              "      <th>4</th>\n",
              "      <td>4</td>\n",
              "      <td>[1.]</td>\n",
              "    </tr>\n",
              "    <tr>\n",
              "      <th>5</th>\n",
              "      <td>5</td>\n",
              "      <td>[1.]</td>\n",
              "    </tr>\n",
              "    <tr>\n",
              "      <th>6</th>\n",
              "      <td>6</td>\n",
              "      <td>[0.]</td>\n",
              "    </tr>\n",
              "    <tr>\n",
              "      <th>7</th>\n",
              "      <td>7</td>\n",
              "      <td>[1.]</td>\n",
              "    </tr>\n",
              "    <tr>\n",
              "      <th>8</th>\n",
              "      <td>8</td>\n",
              "      <td>[1.]</td>\n",
              "    </tr>\n",
              "    <tr>\n",
              "      <th>9</th>\n",
              "      <td>9</td>\n",
              "      <td>[1.]</td>\n",
              "    </tr>\n",
              "    <tr>\n",
              "      <th>10</th>\n",
              "      <td>10</td>\n",
              "      <td>[1.]</td>\n",
              "    </tr>\n",
              "    <tr>\n",
              "      <th>11</th>\n",
              "      <td>11</td>\n",
              "      <td>[1.]</td>\n",
              "    </tr>\n",
              "    <tr>\n",
              "      <th>12</th>\n",
              "      <td>12</td>\n",
              "      <td>[1.]</td>\n",
              "    </tr>\n",
              "    <tr>\n",
              "      <th>13</th>\n",
              "      <td>13</td>\n",
              "      <td>[1.]</td>\n",
              "    </tr>\n",
              "    <tr>\n",
              "      <th>14</th>\n",
              "      <td>14</td>\n",
              "      <td>[1.]</td>\n",
              "    </tr>\n",
              "    <tr>\n",
              "      <th>15</th>\n",
              "      <td>15</td>\n",
              "      <td>[1.]</td>\n",
              "    </tr>\n",
              "    <tr>\n",
              "      <th>16</th>\n",
              "      <td>16</td>\n",
              "      <td>[1.]</td>\n",
              "    </tr>\n",
              "    <tr>\n",
              "      <th>17</th>\n",
              "      <td>17</td>\n",
              "      <td>[1.]</td>\n",
              "    </tr>\n",
              "    <tr>\n",
              "      <th>18</th>\n",
              "      <td>18</td>\n",
              "      <td>[1.]</td>\n",
              "    </tr>\n",
              "    <tr>\n",
              "      <th>19</th>\n",
              "      <td>19</td>\n",
              "      <td>[0.]</td>\n",
              "    </tr>\n",
              "    <tr>\n",
              "      <th>20</th>\n",
              "      <td>20</td>\n",
              "      <td>[1.]</td>\n",
              "    </tr>\n",
              "    <tr>\n",
              "      <th>21</th>\n",
              "      <td>21</td>\n",
              "      <td>[1.]</td>\n",
              "    </tr>\n",
              "    <tr>\n",
              "      <th>22</th>\n",
              "      <td>22</td>\n",
              "      <td>[1.]</td>\n",
              "    </tr>\n",
              "    <tr>\n",
              "      <th>23</th>\n",
              "      <td>23</td>\n",
              "      <td>[1.]</td>\n",
              "    </tr>\n",
              "    <tr>\n",
              "      <th>24</th>\n",
              "      <td>24</td>\n",
              "      <td>[1.]</td>\n",
              "    </tr>\n",
              "    <tr>\n",
              "      <th>25</th>\n",
              "      <td>25</td>\n",
              "      <td>[1.]</td>\n",
              "    </tr>\n",
              "    <tr>\n",
              "      <th>26</th>\n",
              "      <td>26</td>\n",
              "      <td>[1.]</td>\n",
              "    </tr>\n",
              "    <tr>\n",
              "      <th>27</th>\n",
              "      <td>27</td>\n",
              "      <td>[1.]</td>\n",
              "    </tr>\n",
              "    <tr>\n",
              "      <th>28</th>\n",
              "      <td>28</td>\n",
              "      <td>[1.]</td>\n",
              "    </tr>\n",
              "    <tr>\n",
              "      <th>29</th>\n",
              "      <td>29</td>\n",
              "      <td>[1.]</td>\n",
              "    </tr>\n",
              "    <tr>\n",
              "      <th>30</th>\n",
              "      <td>30</td>\n",
              "      <td>[1.]</td>\n",
              "    </tr>\n",
              "    <tr>\n",
              "      <th>31</th>\n",
              "      <td>31</td>\n",
              "      <td>[1.]</td>\n",
              "    </tr>\n",
              "    <tr>\n",
              "      <th>32</th>\n",
              "      <td>32</td>\n",
              "      <td>[1.]</td>\n",
              "    </tr>\n",
              "    <tr>\n",
              "      <th>33</th>\n",
              "      <td>33</td>\n",
              "      <td>[1.]</td>\n",
              "    </tr>\n",
              "    <tr>\n",
              "      <th>34</th>\n",
              "      <td>34</td>\n",
              "      <td>[1.]</td>\n",
              "    </tr>\n",
              "    <tr>\n",
              "      <th>35</th>\n",
              "      <td>35</td>\n",
              "      <td>[0.]</td>\n",
              "    </tr>\n",
              "    <tr>\n",
              "      <th>36</th>\n",
              "      <td>36</td>\n",
              "      <td>[0.]</td>\n",
              "    </tr>\n",
              "    <tr>\n",
              "      <th>37</th>\n",
              "      <td>37</td>\n",
              "      <td>[1.]</td>\n",
              "    </tr>\n",
              "    <tr>\n",
              "      <th>38</th>\n",
              "      <td>38</td>\n",
              "      <td>[1.]</td>\n",
              "    </tr>\n",
              "    <tr>\n",
              "      <th>39</th>\n",
              "      <td>39</td>\n",
              "      <td>[1.]</td>\n",
              "    </tr>\n",
              "    <tr>\n",
              "      <th>40</th>\n",
              "      <td>40</td>\n",
              "      <td>[0.]</td>\n",
              "    </tr>\n",
              "    <tr>\n",
              "      <th>41</th>\n",
              "      <td>41</td>\n",
              "      <td>[1.]</td>\n",
              "    </tr>\n",
              "    <tr>\n",
              "      <th>42</th>\n",
              "      <td>42</td>\n",
              "      <td>[0.]</td>\n",
              "    </tr>\n",
              "    <tr>\n",
              "      <th>43</th>\n",
              "      <td>43</td>\n",
              "      <td>[0.]</td>\n",
              "    </tr>\n",
              "    <tr>\n",
              "      <th>44</th>\n",
              "      <td>44</td>\n",
              "      <td>[1.]</td>\n",
              "    </tr>\n",
              "    <tr>\n",
              "      <th>45</th>\n",
              "      <td>45</td>\n",
              "      <td>[1.]</td>\n",
              "    </tr>\n",
              "    <tr>\n",
              "      <th>46</th>\n",
              "      <td>46</td>\n",
              "      <td>[1.]</td>\n",
              "    </tr>\n",
              "    <tr>\n",
              "      <th>47</th>\n",
              "      <td>47</td>\n",
              "      <td>[1.]</td>\n",
              "    </tr>\n",
              "    <tr>\n",
              "      <th>48</th>\n",
              "      <td>48</td>\n",
              "      <td>[1.]</td>\n",
              "    </tr>\n",
              "    <tr>\n",
              "      <th>49</th>\n",
              "      <td>49</td>\n",
              "      <td>[1.]</td>\n",
              "    </tr>\n",
              "  </tbody>\n",
              "</table>\n",
              "</div>\n",
              "      <button class=\"colab-df-convert\" onclick=\"convertToInteractive('df-afef1084-99f3-45d1-9a22-2901547ccce5')\"\n",
              "              title=\"Convert this dataframe to an interactive table.\"\n",
              "              style=\"display:none;\">\n",
              "        \n",
              "  <svg xmlns=\"http://www.w3.org/2000/svg\" height=\"24px\"viewBox=\"0 0 24 24\"\n",
              "       width=\"24px\">\n",
              "    <path d=\"M0 0h24v24H0V0z\" fill=\"none\"/>\n",
              "    <path d=\"M18.56 5.44l.94 2.06.94-2.06 2.06-.94-2.06-.94-.94-2.06-.94 2.06-2.06.94zm-11 1L8.5 8.5l.94-2.06 2.06-.94-2.06-.94L8.5 2.5l-.94 2.06-2.06.94zm10 10l.94 2.06.94-2.06 2.06-.94-2.06-.94-.94-2.06-.94 2.06-2.06.94z\"/><path d=\"M17.41 7.96l-1.37-1.37c-.4-.4-.92-.59-1.43-.59-.52 0-1.04.2-1.43.59L10.3 9.45l-7.72 7.72c-.78.78-.78 2.05 0 2.83L4 21.41c.39.39.9.59 1.41.59.51 0 1.02-.2 1.41-.59l7.78-7.78 2.81-2.81c.8-.78.8-2.07 0-2.86zM5.41 20L4 18.59l7.72-7.72 1.47 1.35L5.41 20z\"/>\n",
              "  </svg>\n",
              "      </button>\n",
              "      \n",
              "  <style>\n",
              "    .colab-df-container {\n",
              "      display:flex;\n",
              "      flex-wrap:wrap;\n",
              "      gap: 12px;\n",
              "    }\n",
              "\n",
              "    .colab-df-convert {\n",
              "      background-color: #E8F0FE;\n",
              "      border: none;\n",
              "      border-radius: 50%;\n",
              "      cursor: pointer;\n",
              "      display: none;\n",
              "      fill: #1967D2;\n",
              "      height: 32px;\n",
              "      padding: 0 0 0 0;\n",
              "      width: 32px;\n",
              "    }\n",
              "\n",
              "    .colab-df-convert:hover {\n",
              "      background-color: #E2EBFA;\n",
              "      box-shadow: 0px 1px 2px rgba(60, 64, 67, 0.3), 0px 1px 3px 1px rgba(60, 64, 67, 0.15);\n",
              "      fill: #174EA6;\n",
              "    }\n",
              "\n",
              "    [theme=dark] .colab-df-convert {\n",
              "      background-color: #3B4455;\n",
              "      fill: #D2E3FC;\n",
              "    }\n",
              "\n",
              "    [theme=dark] .colab-df-convert:hover {\n",
              "      background-color: #434B5C;\n",
              "      box-shadow: 0px 1px 3px 1px rgba(0, 0, 0, 0.15);\n",
              "      filter: drop-shadow(0px 1px 2px rgba(0, 0, 0, 0.3));\n",
              "      fill: #FFFFFF;\n",
              "    }\n",
              "  </style>\n",
              "\n",
              "      <script>\n",
              "        const buttonEl =\n",
              "          document.querySelector('#df-afef1084-99f3-45d1-9a22-2901547ccce5 button.colab-df-convert');\n",
              "        buttonEl.style.display =\n",
              "          google.colab.kernel.accessAllowed ? 'block' : 'none';\n",
              "\n",
              "        async function convertToInteractive(key) {\n",
              "          const element = document.querySelector('#df-afef1084-99f3-45d1-9a22-2901547ccce5');\n",
              "          const dataTable =\n",
              "            await google.colab.kernel.invokeFunction('convertToInteractive',\n",
              "                                                     [key], {});\n",
              "          if (!dataTable) return;\n",
              "\n",
              "          const docLinkHtml = 'Like what you see? Visit the ' +\n",
              "            '<a target=\"_blank\" href=https://colab.research.google.com/notebooks/data_table.ipynb>data table notebook</a>'\n",
              "            + ' to learn more about interactive tables.';\n",
              "          element.innerHTML = '';\n",
              "          dataTable['output_type'] = 'display_data';\n",
              "          await google.colab.output.renderOutput(dataTable, element);\n",
              "          const docLink = document.createElement('div');\n",
              "          docLink.innerHTML = docLinkHtml;\n",
              "          element.appendChild(docLink);\n",
              "        }\n",
              "      </script>\n",
              "    </div>\n",
              "  </div>\n",
              "  "
            ]
          },
          "metadata": {},
          "execution_count": 37
        }
      ]
    },
    {
      "cell_type": "code",
      "source": [],
      "metadata": {
        "id": "H8mwHhpawwp6"
      },
      "execution_count": null,
      "outputs": []
    }
  ]
}